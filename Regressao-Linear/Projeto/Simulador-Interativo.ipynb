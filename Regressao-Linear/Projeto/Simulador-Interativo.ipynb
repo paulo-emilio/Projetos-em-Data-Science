{
 "cells": [
  {
   "cell_type": "markdown",
   "metadata": {},
   "source": [
    "<h1 style='color: green; font-size: 36px; font-weight: bold;'>Simulador Interativo</h1>\n",
    "\n",
    "***"
   ]
  },
  {
   "cell_type": "code",
   "execution_count": 1,
   "metadata": {},
   "outputs": [],
   "source": [
    "import warnings\n",
    "warnings.filterwarnings('ignore', category=UserWarning, module='sklearn')"
   ]
  },
  {
   "cell_type": "markdown",
   "metadata": {},
   "source": [
    "## Importando modelo"
   ]
  },
  {
   "cell_type": "code",
   "execution_count": 2,
   "metadata": {},
   "outputs": [
    {
     "name": "stdout",
     "output_type": "stream",
     "text": [
      "$ 36475.0\n"
     ]
    }
   ],
   "source": [
    "import pickle\n",
    "\n",
    "modelo = open('modelo/modelo_preco','rb')\n",
    "lm_new = pickle.load(modelo)\n",
    "modelo.close()\n",
    "\n",
    "Area = 131\n",
    "Garage = 2\n",
    "FirePlace = 0\n",
    "Baths = 4\n",
    "White_Marble = 0\n",
    "Black_Marble = 0\n",
    "Indian_Marble = 1\n",
    "Floors = 1\n",
    "City = 1\n",
    "Solar = 0\n",
    "Electric = 1\n",
    "Fiber = 0\n",
    "Glass_Doors = 1\n",
    "\n",
    "entrada = [[Area,Garage,FirePlace,Baths,White_Marble,Black_Marble,Indian_Marble,Floors,City,Solar,Electric,Fiber,Glass_Doors]]\n",
    "\n",
    "print(f'$ {lm_new.predict(entrada)[0].round(2)}')"
   ]
  },
  {
   "cell_type": "markdown",
   "metadata": {},
   "source": [
    "## Simulador interativo Preços de Casas"
   ]
  },
  {
   "cell_type": "code",
   "execution_count": 3,
   "metadata": {},
   "outputs": [],
   "source": [
    "# Importando bibliotecas\n",
    "from ipywidgets import widgets, HBox, VBox\n",
    "from IPython.display import display\n",
    "\n",
    "# Criando os controles do formulário\n",
    "Area = widgets.Text(description=\"Área\")\n",
    "Garage = widgets.Text(description=\"Garagem\")\n",
    "FirePlace = widgets.Text(description=\"Lareira\")\n",
    "Baths = widgets.Text(description=\"Banheiros\")\n",
    "White_Marble = widgets.Text(description=\"M. Branco?\")\n",
    "Black_Marble = widgets.Text(description=\"M. Preto?\")\n",
    "Indian_Marble = widgets.Text(description=\"M.Indiano?\")\n",
    "Floors = widgets.Text(description=\"Andares?\")\n",
    "City = widgets.Text(description=\"Cidade\")\n",
    "Solar = widgets.Text(description=\"Painel Solar?\")\n",
    "Electric = widgets.Text(description=\"Rede Elétrica?\")\n",
    "Fiber = widgets.Text(description=\"Fibra?\")\n",
    "Glass_Doors = widgets.Text(description=\"Portas de vidro?\")\n",
    "\n",
    "botao = widgets.Button(description=\"Simular\")\n",
    "\n",
    "# Posicionando os controles\n",
    "left = VBox([Area, Garage, FirePlace, Baths, White_Marble, Black_Marble, Indian_Marble])\n",
    "right = VBox([Floors, City, Solar, Electric, Fiber, Glass_Doors])\n",
    "inputs = HBox([left, right])\n",
    "\n",
    "# Função de simulação\n",
    "def simulador(sender):\n",
    "    entrada = [[\n",
    "        float(Area.value if Area.value else 0),\n",
    "        float(Garage.value if Garage.value else 0),\n",
    "        float(FirePlace.value if FirePlace.value else 0),\n",
    "        float(Baths.value if Baths.value else 0),\n",
    "        float(White_Marble.value if White_Marble.value else 0),\n",
    "        float(Black_Marble.value if Black_Marble.value else 0),\n",
    "        float(Indian_Marble.value if Indian_Marble.value else 0),\n",
    "        float(Floors.value if Floors.value else 0),\n",
    "        float(City.value if City.value else 0),\n",
    "        float(Solar.value if Solar.value else 0),\n",
    "        float(Electric.value if Electric.value else 0),\n",
    "        float(Fiber.value if Fiber.value else 0),\n",
    "        float(Glass_Doors.value if Glass_Doors.value else 0)\n",
    "    ]]\n",
    "\n",
    "    print('O preço estimado da casa é de: $ {0:.2f}'.format(lm_new.predict(entrada)[0]))\n",
    "\n",
    "# Atribuindo a função \"simulador\" ao evento click do botão\n",
    "botao.on_click(simulador)"
   ]
  },
  {
   "cell_type": "markdown",
   "metadata": {},
   "source": [
    "<h1 style='color: green; font-size: 30px; font-weight: bold;'>Simulação de Preços de Casa com Base em Dados de Entrada</h1>\n",
    "<h1 style='color: green; font-size: 22px;'>(Use \"0\" para \"Não\" e \"1\" para \"Sim\" nas variáveis categóricas)</h1>\n",
    "\n",
    "***"
   ]
  },
  {
   "cell_type": "code",
   "execution_count": 4,
   "metadata": {
    "scrolled": true
   },
   "outputs": [
    {
     "data": {
      "application/vnd.jupyter.widget-view+json": {
       "model_id": "69d3b64d1ca1402a9ce81c4baa917728",
       "version_major": 2,
       "version_minor": 0
      },
      "text/plain": [
       "HBox(children=(VBox(children=(Text(value='', description='Área'), Text(value='', description='Garagem'), Text(…"
      ]
     },
     "metadata": {},
     "output_type": "display_data"
    },
    {
     "data": {
      "application/vnd.jupyter.widget-view+json": {
       "model_id": "4478dc5c907d45bd801cc83f4ab6c405",
       "version_major": 2,
       "version_minor": 0
      },
      "text/plain": [
       "Button(description='Simular', style=ButtonStyle())"
      ]
     },
     "metadata": {},
     "output_type": "display_data"
    },
    {
     "name": "stdout",
     "output_type": "stream",
     "text": [
      "O preço estimado da casa é de: $ 63750.00\n"
     ]
    }
   ],
   "source": [
    "display(inputs, botao)"
   ]
  },
  {
   "cell_type": "markdown",
   "metadata": {},
   "source": [
    " "
   ]
  }
 ],
 "metadata": {
  "kernelspec": {
   "display_name": "Python 3 (ipykernel)",
   "language": "python",
   "name": "python3"
  },
  "language_info": {
   "codemirror_mode": {
    "name": "ipython",
    "version": 3
   },
   "file_extension": ".py",
   "mimetype": "text/x-python",
   "name": "python",
   "nbconvert_exporter": "python",
   "pygments_lexer": "ipython3",
   "version": "3.11.4"
  }
 },
 "nbformat": 4,
 "nbformat_minor": 2
}
